{
 "cells": [
  {
   "cell_type": "markdown",
   "metadata": {},
   "source": [
    "This notebook demonstrates how to use `thistothat` to get a handy little Python function encapsulating some relationship from the astrophysics literature (to convert from \"this\" to \"that\"). We'll start off in this one by making a function that converts from $V-J$ color to absolute $J$ magnitude for a star, assuming it is on the main sequence, using tabulated relations from [Eric Mamajek](http://www.pas.rochester.edu/~emamajek/)."
   ]
  },
  {
   "cell_type": "code",
   "execution_count": 1,
   "metadata": {
    "collapsed": true
   },
   "outputs": [],
   "source": [
    "import matplotlib.pyplot as plt, numpy as np\n",
    "%matplotlib inline"
   ]
  },
  {
   "cell_type": "code",
   "execution_count": 2,
   "metadata": {},
   "outputs": [
    {
     "name": "stdout",
     "output_type": "stream",
     "text": [
      "      [mamajek] loading data from /Users/zkbt/anaconda3/lib/python3.6/site-packages/thistothat-0.1-py3.6.egg/thistothat/data/mamajek_dwarfproperties.txt\n",
      "      [mamajek]    ...success!\n"
     ]
    }
   ],
   "source": [
    "# create an interpolator object that uses relations from Eric Mamajek's stellar table\n",
    "from thistothat import Mamajek\n",
    "m = Mamajek()"
   ]
  },
  {
   "cell_type": "code",
   "execution_count": 3,
   "metadata": {},
   "outputs": [
    {
     "name": "stdout",
     "output_type": "stream",
     "text": [
      "      [mamajek] creating interpolator to convert V-J to M_J\n"
     ]
    },
    {
     "data": {
      "image/png": "[encoded data removed]",
      "text/plain": [
       "<matplotlib.figure.Figure at 0x10cd49828>"
      ]
     },
     "metadata": {},
     "output_type": "display_data"
    }
   ],
   "source": [
    "# create a function that goes to absolute J magnitude for a given V-J color\n",
    "absoluteJ = m.tofrom('M_J')('V-J')\n",
    "# create a grid of V-J values\n",
    "vminusj = np.linspace(-1,5)\n",
    "\n",
    "# plot the color magnitude diagram\n",
    "plt.plot(vminusj, absoluteJ(vminusj))\n",
    "plt.xlabel('$V-J$ (color)'); plt.ylabel(\"$M_J$ (absolute $J$ magnitude)\");"
   ]
  },
  {
   "cell_type": "code",
   "execution_count": 4,
   "metadata": {},
   "outputs": [
    {
     "name": "stdout",
     "output_type": "stream",
     "text": [
      "      [mamajek] \n",
      "      [mamajek] The columns in TheMamajekCuratedStars are:\n",
      "      [mamajek]                  SpT = (string) Spectral type of the star.\n",
      "      [mamajek]                 Teff = Stellar Effective Temperature, in K.\n",
      "      [mamajek]                 logT = log10(Teff), where Teff is in K.\n",
      "      [mamajek]                  BCv = Bolometric Correction from V band, in magnitudes.\n",
      "      [mamajek]                   Mv = Absolute V magnitude for a dwarf star.\n",
      "      [mamajek]                 logL = log10(Luminosity), in solar luminosities.\n",
      "      [mamajek]                  B-V = B-V color\n",
      "      [mamajek]                Bt-Vt = Bt-Vt color\n",
      "      [mamajek]                  V-G = V-G color\n",
      "      [mamajek]                  U-B = U-B color\n",
      "      [mamajek]                 V-Rc = V-Rc color\n",
      "      [mamajek]                 V-Ic = V-Ic color\n",
      "      [mamajek]                 V-Ks = V-Ks color\n",
      "      [mamajek]                  J-H = J-H color\n",
      "      [mamajek]                  H-K = H-K color\n",
      "      [mamajek]                Ks-W1 = Ks-W1 color\n",
      "      [mamajek]                W1-W2 = W1-W2 color\n",
      "      [mamajek]                W1-W3 = W1-W3 color\n",
      "      [mamajek]                W1-W4 = W1-W4 color\n",
      "      [mamajek]                 Msun = Stellar mass, for dwarf stars, tentatively, in solar masses.\n",
      "      [mamajek]               logAge = log10(Age), approximate main sequence lifetime in years.\n",
      "      [mamajek]                  b-y = b-y color\n",
      "      [mamajek]                  M_J = Absolute J magnitude.\n",
      "      [mamajek]                 M_Ks = Absolute Ks magnitude\n",
      "      [mamajek]                 Mbol = Absolute bolometric magnitude.\n",
      "      [mamajek]                  i-z = i-z color\n",
      "      [mamajek]                  z-Y = z-Y color\n",
      "      [mamajek]               R_Rsun = Stellar Radius, in solar radii\n",
      "      [mamajek]                 #SpT = Another copy of the spectral type\n",
      "      [mamajek]                  V-J = V-J color\n"
     ]
    }
   ],
   "source": [
    "# what other columns are available?\n",
    "m.summarize()"
   ]
  }
 ],
 "metadata": {
  "kernelspec": {
   "display_name": "Python 3",
   "language": "python",
   "name": "python3"
  },
  "language_info": {
   "codemirror_mode": {
    "name": "ipython",
    "version": 3
   },
   "file_extension": ".py",
   "mimetype": "text/x-python",
   "name": "python",
   "nbconvert_exporter": "python",
   "pygments_lexer": "ipython3",
   "version": "3.6.1"
  }
 },
 "nbformat": 4,
 "nbformat_minor": 2
}
