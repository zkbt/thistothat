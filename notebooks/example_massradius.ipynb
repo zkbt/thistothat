{
 "cells": [
  {
   "cell_type": "markdown",
   "metadata": {},
   "source": [
    "This notebook demonstrates how to use `thistothat` to get a handy little Python function encapsulating some relationship from the astrophysics literature (to convert from \"this\" to \"that\"). We'll start off by importing two examples of a set of relationships: the theoretical stellar structure models of Baraffe et al. (2015) and the Mamajek table of main-sequence stellar properties."
   ]
  },
  {
   "cell_type": "code",
   "execution_count": 1,
   "metadata": {
    "collapsed": true
   },
   "outputs": [],
   "source": [
    "# import a particular relation class definition\n",
    "from thistothat import Baraffe, Mamajek\n",
    "import numpy as np, matplotlib.pyplot as plt\n",
    "%matplotlib inline"
   ]
  },
  {
   "cell_type": "markdown",
   "metadata": {},
   "source": [
    "### the Baraffe models\n",
    "These contain theoretical stellar models, defaulting here to a stellar age of 5 Gyr, which is pretty reasonable for most field stars."
   ]
  },
  {
   "cell_type": "code",
   "execution_count": 2,
   "metadata": {},
   "outputs": [
    {
     "name": "stdout",
     "output_type": "stream",
     "text": [
      "      [baraffe] loading data from /Users/zkbt/Dropbox/code/python/packages/thistothat/thistothat/data/baraffe/BHAC15_iso.CIT2.txt\n",
      "      [baraffe]    ...success!\n",
      "      [baraffe] setting the Baraffe model age to 5.0 Gyr\n",
      "      [baraffe] \n",
      "      [baraffe] The columns in Baraffe_5Gyr are:\n",
      "      [baraffe]                 mass = Mass of the star, in solar masses.\n",
      "      [baraffe]                 Teff = Stellar effective temperature, in K.\n",
      "      [baraffe]                 logL = log10(Luminosity), in solar luminosities.\n",
      "      [baraffe]                 logg = log10(Surface Gravity), in cm/s^2.\n",
      "      [baraffe]               radius = Radius of the star, in solar radii.\n",
      "      [baraffe]              lithium = Ratio of surface lithium abundance to initial abundance.\n",
      "      [baraffe]                   Mv = Absolute V magnitude (Cousin).\n",
      "      [baraffe]                   Mr = Absolute R magnitude (Cousin).\n",
      "      [baraffe]                   Mi = Absolute I magnitude (Cousin).\n",
      "      [baraffe]                   Mj = Absolute J magnitude (CIT).\n",
      "      [baraffe]                   Mh = Absolute H magnitude (CIT).\n",
      "      [baraffe]                   Mk = Absolute K magnitude (CIT).\n",
      "      [baraffe]                   Ml = Absolute L magnitude (Johnson-Glass).\n",
      "      [baraffe]                  Mll = Absolute L' magnitude (Johnson-Glass).\n",
      "      [baraffe]                   Mm = Absolute M magnitude (Johnson-Glass).\n",
      "      [baraffe]                  age = Absolute M magnitude (Johnson-Glass).\n"
     ]
    }
   ],
   "source": [
    "# create relation objects\n",
    "b = Baraffe()\n",
    "b.summarize()"
   ]
  },
  {
   "cell_type": "markdown",
   "metadata": {},
   "source": [
    "### the Mamajek table\n",
    "This contains averaged estimates for main-sequence stars."
   ]
  },
  {
   "cell_type": "code",
   "execution_count": 3,
   "metadata": {},
   "outputs": [
    {
     "name": "stdout",
     "output_type": "stream",
     "text": [
      "      [mamajek] loading data from /Users/zkbt/Dropbox/code/python/packages/thistothat/thistothat/data/mamajek_dwarfproperties.txt\n",
      "      [mamajek]    ...success!\n",
      "      [mamajek] \n",
      "      [mamajek] The columns in TheMamajekCuratedStars are:\n",
      "      [mamajek]                  SpT = (string) Spectral type of the star.\n",
      "      [mamajek]                 Teff = Stellar Effective Temperature, in K.\n",
      "      [mamajek]                 logT = log10(Teff), where Teff is in K.\n",
      "      [mamajek]                  BCv = Bolometric Correction from V band, in magnitudes.\n",
      "      [mamajek]                   Mv = Absolute V magnitude for a dwarf star.\n",
      "      [mamajek]                 logL = log10(Luminosity), in solar luminosities.\n",
      "      [mamajek]                  B-V = B-V color\n",
      "      [mamajek]                Bt-Vt = Bt-Vt color\n",
      "      [mamajek]                  V-G = V-G color\n",
      "      [mamajek]                  U-B = U-B color\n",
      "      [mamajek]                 V-Rc = V-Rc color\n",
      "      [mamajek]                 V-Ic = V-Ic color\n",
      "      [mamajek]                 V-Ks = V-Ks color\n",
      "      [mamajek]                  J-H = J-H color\n",
      "      [mamajek]                  H-K = H-K color\n",
      "      [mamajek]                Ks-W1 = Ks-W1 color\n",
      "      [mamajek]                W1-W2 = W1-W2 color\n",
      "      [mamajek]                W1-W3 = W1-W3 color\n",
      "      [mamajek]                W1-W4 = W1-W4 color\n",
      "      [mamajek]                 Msun = Stellar mass, for dwarf stars, tentatively, in solar masses.\n",
      "      [mamajek]               logAge = log10(Age), approximate main sequence lifetime in years.\n",
      "      [mamajek]                  b-y = b-y color\n",
      "      [mamajek]                  M_J = Absolute J magnitude.\n",
      "      [mamajek]                 M_Ks = Absolute Ks magnitude\n",
      "      [mamajek]                 Mbol = Absolute bolometric magnitude.\n",
      "      [mamajek]                  i-z = i-z color\n",
      "      [mamajek]                  z-Y = z-Y color\n",
      "      [mamajek]               R_Rsun = Stellar Radius, in solar radii\n",
      "      [mamajek]                 #SpT = Another copy of the spectral type\n",
      "      [mamajek]                  V-J = V-J color\n"
     ]
    }
   ],
   "source": [
    "m = Mamajek()\n",
    "m.summarize()"
   ]
  },
  {
   "cell_type": "markdown",
   "metadata": {},
   "source": [
    "# Comparing Mass-Radius Estimates:\n",
    "Now the objects `b` and `m` are handy little objects than contains all the data for the Baraffe models and the Mamajek table of spectral type standards. They can create functions to convert from some quantities to other quantities (for example, a function `f` where `that = f(this)`). "
   ]
  },
  {
   "cell_type": "code",
   "execution_count": 4,
   "metadata": {},
   "outputs": [
    {
     "name": "stdout",
     "output_type": "stream",
     "text": [
      "      [baraffe] creating interpolator to convert mass to radius\n",
      "      [mamajek] creating interpolator to convert Msun to R_Rsun\n"
     ]
    },
    {
     "data": {
      "image/png": "[encoded data removed]",
      "text/plain": [
       "<Figure size 432x288 with 1 Axes>"
      ]
     },
     "metadata": {},
     "output_type": "display_data"
    }
   ],
   "source": [
    "# create an arbitrary array of mass values\n",
    "b_MR = b.tofrom('radius')('mass')\n",
    "m_MR = m.tofrom('R_Rsun')('Msun')\n",
    "\n",
    "xmin, xmax = b.limits('mass')\n",
    "masses = np.linspace(xmin, xmax)\n",
    "plt.plot(masses, b_MR(masses), linewidth=5, label='Baraffe')\n",
    "plt.plot(masses, m_MR(masses), linewidth=5, label='Mamajek')\n",
    "\n",
    "plt.legend(frameon=False)\n",
    "plt.xlabel('Stellar Mass (solar masses)')\n",
    "plt.ylabel('Stellar Radius (solar radius)');"
   ]
  },
  {
   "cell_type": "markdown",
   "metadata": {},
   "source": [
    "It looks like these *broadly* agree. The Baraffe estimates are generally probably pretty reasonable to use for general purposes, although you'll want to revisit this more carefully for super-precision work."
   ]
  },
  {
   "cell_type": "markdown",
   "metadata": {},
   "source": [
    "### Citations:\n",
    "Of course, this is just a wrapper to a lot of very difficult astrophysics that other people did. If you use any of these relations, please be sure to cite the original sources! To help out, each relation should have a bibcode associated with it that you could feed into [NASA ADS](https://ui.adsabs.harvard.edu) to get the original reference for the relationship."
   ]
  },
  {
   "cell_type": "code",
   "execution_count": 5,
   "metadata": {},
   "outputs": [
    {
     "name": "stdout",
     "output_type": "stream",
     "text": [
      "The Baraffe models are described in 2015A%26A...577A..42B\n",
      "The Mamajek table is described in 2013ApJS..208...9P\n"
     ]
    }
   ],
   "source": [
    "print('The Baraffe models are described in {}'.format(b.bibcode))\n",
    "print('The Mamajek table is described in {}'.format(m.bibcode))\n"
   ]
  },
  {
   "cell_type": "markdown",
   "metadata": {},
   "source": [
    "Have fun playing with these relations!"
   ]
  }
 ],
 "metadata": {
  "kernelspec": {
   "display_name": "Python 3",
   "language": "python",
   "name": "python3"
  },
  "language_info": {
   "codemirror_mode": {
    "name": "ipython",
    "version": 3
   },
   "file_extension": ".py",
   "mimetype": "text/x-python",
   "name": "python",
   "nbconvert_exporter": "python",
   "pygments_lexer": "ipython3",
   "version": "3.6.2"
  }
 },
 "nbformat": 4,
 "nbformat_minor": 2
}
